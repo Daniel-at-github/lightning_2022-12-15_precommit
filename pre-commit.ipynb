{
 "cells": [
  {
   "cell_type": "markdown",
   "id": "fdc91caf-d472-4311-90c0-ae71a24f0425",
   "metadata": {
    "slideshow": {
     "slide_type": "slide"
    },
    "tags": []
   },
   "source": [
    "# **Pre-commit** ![Pre-commit logo](assets/pre-commit-logo-top-shelf.png)\n",
    "\n",
    "https://pre-commit.com/"
   ]
  },
  {
   "cell_type": "markdown",
   "id": "5848989b-5dce-4226-a3fc-22fc28979ca7",
   "metadata": {
    "slideshow": {
     "slide_type": "slide"
    },
    "tags": []
   },
   "source": [
    "![Git logo](assets/Git-logo.svg)\n",
    "\n",
    "🎓 https://learngitbranching.js.org/  \n",
    "🔫🦶 🧔‍♂️⁉️"
   ]
  },
  {
   "cell_type": "markdown",
   "id": "794ee956-7d84-49a4-9f67-0e324f51d7a8",
   "metadata": {
    "slideshow": {
     "slide_type": "slide"
    },
    "tags": []
   },
   "source": [
    "# git hooks\n",
    "commit, merge-commit, push, prepare-commit-msg, commit-msg, post-checkout, post-commit, post-merge, post-rewrite, and manual"
   ]
  },
  {
   "cell_type": "markdown",
   "id": "26a33d08-5911-4ac1-b0b1-7827e37594d3",
   "metadata": {
    "slideshow": {
     "slide_type": "slide"
    },
    "tags": []
   },
   "source": [
    "# Instalar\n",
    "\n",
    "``` sh\n",
    "pip install pre-commit\n",
    "pre-commit --version\n",
    "```"
   ]
  },
  {
   "cell_type": "markdown",
   "id": "324cc53b-3b55-4140-884b-de1cfbda6fd6",
   "metadata": {
    "slideshow": {
     "slide_type": "slide"
    },
    "tags": []
   },
   "source": [
    "# Activar\n",
    "\n",
    "``` sh\n",
    "cd /path/al/repositorio/git/a/configurar\n",
    "# git init\n",
    "\n",
    "pre-commit sample-config # Crea un .pre-commit-config.yaml de ejemplo\n",
    "vim .pre-commit # Configurar\n",
    "\n",
    "pre-commit install   # Fácil de poner\n",
    "pre-commit uninstall # Fácil de sacar\n",
    "```"
   ]
  },
  {
   "cell_type": "markdown",
   "id": "4a84fb99-55df-4659-ad26-1a746407209d",
   "metadata": {
    "slideshow": {
     "slide_type": "slide"
    },
    "tags": []
   },
   "source": [
    "# Configurar\n",
    "\n",
    "`.pre-commit-config.yaml`\n",
    "\n",
    "``` yaml\n",
    "default_install_hook_types: # En que git hooks llamamos a pre-commit\n",
    "  - commit-msg\n",
    "  - pre-commit\n",
    "default_stages: # Cuales git hooks usamos implícitamente en los repos \n",
    "  - commit\n",
    "  - manual\n",
    "fail_fast: true # Parar al primer fallo\n",
    "exclude: LICENSE|CHANGELOG.md|\\.gitlab/ # Ficheros a no comprobar\n",
    "repos: \n",
    "  - repo: 'https://github.com/pre-commit/pre-commit-hooks'\n",
    "    rev: v4.3.0\n",
    "    hooks:\n",
    "      - id: check-merge-conflict # Detecta merge conflict strings\n",
    "      - id: end-of-file-fixer # El fichero acaba en un enter\n",
    "      - id: mixed-line-ending # Enters crlf/lf reemplaza por el mayoritario\n",
    "      - id: trailing-whitespace # Borra los espacios al final de línea\n",
    "        args:\n",
    "          - --markdown-linebreak-ext=md # Excepto en markdown (hard linebreaks)\n",
    "```"
   ]
  },
  {
   "cell_type": "markdown",
   "id": "b22aaa61-b609-4df7-b833-a81dd9ad78c5",
   "metadata": {
    "slideshow": {
     "slide_type": "slide"
    },
    "tags": []
   },
   "source": [
    "# Subcomandos de pre-commit\n",
    "``` sh\n",
    "pre-commit help\n",
    "usage: pre-commit [-h] [-V] {autoupdate,clean,gc,init-templatedir,install,install-hooks,migrate-config,run,sample-config,try-repo,uninstall,validate-config,validate-manifest,help,hook-impl} ...\n",
    "\n",
    "positional arguments:\n",
    "  {autoupdate,clean,gc,init-templatedir,install,install-hooks,migrate-config,run,sample-config,try-repo,uninstall,validate-config,validate-manifest,help,hook-impl}\n",
    "...\n",
    "\n",
    "pre-commit autoupdate  # Auto-update pre-commit config to the latest repos' versions.\n",
    "pre-commit run --all-files # Run hooks on all files\n",
    "```"
   ]
  },
  {
   "cell_type": "markdown",
   "id": "914ed248-cb8e-46f2-aeae-d8d37419e9a3",
   "metadata": {
    "slideshow": {
     "slide_type": "slide"
    },
    "tags": []
   },
   "source": [
    "# Repos\n",
    "\n",
    "Listados en https://pre-commit.com/hooks.html"
   ]
  },
  {
   "cell_type": "markdown",
   "id": "afa60271-a507-411e-9dba-7c904c01f730",
   "metadata": {
    "slideshow": {
     "slide_type": "subslide"
    },
    "tags": []
   },
   "source": [
    "# Repos - commitizen\n",
    "\n",
    "* Estandariza commits mediante Conventional Commits (basados en la convención de Angular).\n",
    "* Posibilita CHANGELOG y tags automáticos (fuera de pre-commit)\n",
    "\n",
    "``` yaml\n",
    "repos: \n",
    "  - repo: 'https://github.com/commitizen-tools/commitizen'\n",
    "    rev: v2.37.0\n",
    "    hooks:\n",
    "      - id: commitizen\n",
    "        stages:\n",
    "          - commit-msg\n",
    "```\n"
   ]
  },
  {
   "cell_type": "markdown",
   "id": "13035a2e-4022-4a49-85af-d3768c1b5755",
   "metadata": {
    "slideshow": {
     "slide_type": "subslide"
    },
    "tags": []
   },
   "source": [
    "# Repos - isort, black\n",
    "\n",
    "* Formateado automático de código python\n",
    "\n",
    "``` yaml\n",
    "repos: \n",
    "  - repo: 'https://github.com/PyCQA/isort'\n",
    "    rev: 5.10.1\n",
    "    hooks:\n",
    "      - id: isort\n",
    "        args:\n",
    "          - --profile\n",
    "          - black\n",
    "          - --filter-files\n",
    "        language_version: python3\n",
    "  - repo: 'https://github.com/psf/black'\n",
    "    rev: 22.10.0\n",
    "    hooks:\n",
    "      - id: black\n",
    "```\n"
   ]
  },
  {
   "cell_type": "markdown",
   "id": "3d33f641-93dd-43bc-8420-195c5db8b417",
   "metadata": {
    "slideshow": {
     "slide_type": "subslide"
    },
    "tags": []
   },
   "source": [
    "# Repos - pre-commit (meta)\n",
    "\n",
    "* Meta chequeo\n",
    "\n",
    "``` yaml\n",
    "repos: \n",
    "  - repo: meta # https://pre-commit.com/#meta-hooks\n",
    "    hooks:\n",
    "      - id: check-hooks-apply\n",
    "      - id: check-useless-excludes\n",
    "```\n"
   ]
  },
  {
   "cell_type": "markdown",
   "id": "ed4f9263-0ab3-4cac-b63f-d518efc8b637",
   "metadata": {
    "slideshow": {
     "slide_type": "subslide"
    },
    "tags": []
   },
   "source": [
    "# Repos - pre-commit\n",
    "\n",
    "* xxx\n",
    "\n",
    "``` yaml\n",
    "repos: \n",
    "  - repo: 'https://github.com/pre-commit/pre-commit-hooks'\n",
    "    rev: v4.3.0\n",
    "    hooks:\n",
    "      # Identify invalid files\n",
    "      - id: check-ast\n",
    "      - id: check-yaml\n",
    "      - id: check-json\n",
    "      - id: check-toml\n",
    "      # Git checks\n",
    "      - id: check-added-large-files\n",
    "      - id: detect-private-key\n",
    "      - id: check-case-conflict\n",
    "      # Python check\n",
    "      - id: check-docstring-first\n",
    "      - id: debug-statements\n",
    "      - id: requirements-txt-fixer\n",
    "      - id: fix-byte-order-marker\n",
    "      # General quality checks\n",
    "      - id: check-executables-have-shebangs\n",
    "```\n"
   ]
  },
  {
   "cell_type": "markdown",
   "id": "cdc4f98e-48c4-4239-8538-0b34949652e2",
   "metadata": {
    "slideshow": {
     "slide_type": "subslide"
    },
    "tags": []
   },
   "source": [
    "# Repos - pyupgrade\n",
    "\n",
    "* Actualiza la sintáxis de código fuente python\n",
    "\n",
    "``` yaml\n",
    "repos: \n",
    "  - repo: 'https://github.com/asottile/pyupgrade'\n",
    "    rev: v3.2.2\n",
    "    hooks:\n",
    "      - id: pyupgrade\n",
    "        args:\n",
    "          - --py37-plus\n",
    "```\n"
   ]
  },
  {
   "cell_type": "markdown",
   "id": "8f780f6b-7844-48b6-8095-49d0571c38a2",
   "metadata": {
    "slideshow": {
     "slide_type": "subslide"
    },
    "tags": []
   },
   "source": [
    "# Repos - flake8\n",
    "\n",
    "* Python linter flake8\n",
    "\n",
    "``` yaml\n",
    "repos: \n",
    "  - repo: https://github.com/PyCQA/flake8\n",
    "    rev: 5.0.4\n",
    "    hooks:\n",
    "      - id: flake8\n",
    "        args:\n",
    "          - --max-line-length=89\n",
    "          - --ignore=E203,E266,E501,W503,F403,F401\n",
    "```\n"
   ]
  },
  {
   "cell_type": "markdown",
   "id": "f26e4df3-355d-484f-9404-64d00764e40c",
   "metadata": {
    "slideshow": {
     "slide_type": "subslide"
    },
    "tags": []
   },
   "source": [
    "# Repos - vulture\n",
    "\n",
    "* Limpia de código \"muerto\"\n",
    "\n",
    "``` yaml\n",
    "repos: \n",
    "  - repo: 'https://github.com/jendrikseipp/vulture'\n",
    "    rev: v2.6\n",
    "    hooks:\n",
    "      - id: vulture\n",
    "        # entry: python scripts/run_vulture.py\n",
    "        pass_filenames: false\n",
    "        require_serial: true\n",
    "```\n"
   ]
  },
  {
   "cell_type": "markdown",
   "id": "57dd7328-cde9-4e4b-a16e-90ddbbc2fa49",
   "metadata": {
    "slideshow": {
     "slide_type": "subslide"
    },
    "tags": []
   },
   "source": [
    "# Repos - varios\n",
    "\n",
    "* https://github.com/lyz-code/yamlfix/\n",
    "* https://github.com/dosisod/refurb\n",
    "* https://github.com/asottile/pyupgrade\n",
    "* https://github.com/pre-commit/mirrors-mypy\n",
    "* https://github.com/codespell-project/codespell\n",
    "* ..."
   ]
  },
  {
   "cell_type": "markdown",
   "id": "e9eda0eb-a122-4119-accd-5a98303bdbcd",
   "metadata": {
    "slideshow": {
     "slide_type": "slide"
    },
    "tags": []
   },
   "source": [
    "# Atribuciones (imágenes)\n",
    "* pre-commit-logo-top-shelf.png → https://pre-commit.com/\n",
    "* Git-logo.svg → https://upload.wikimedia.org/wikipedia/commons/e/e0/Git-logo.svg"
   ]
  },
  {
   "cell_type": "markdown",
   "id": "19404c29-2055-4e37-a648-0124a4538017",
   "metadata": {
    "slideshow": {
     "slide_type": "slide"
    },
    "tags": []
   },
   "source": [
    "# 🏁"
   ]
  }
 ],
 "metadata": {
  "kernelspec": {
   "display_name": "Python 3 (ipykernel)",
   "language": "python",
   "name": "python3"
  },
  "language_info": {
   "codemirror_mode": {
    "name": "ipython",
    "version": 3
   },
   "file_extension": ".py",
   "mimetype": "text/x-python",
   "name": "python",
   "nbconvert_exporter": "python",
   "pygments_lexer": "ipython3",
   "version": "3.11.0"
  }
 },
 "nbformat": 4,
 "nbformat_minor": 5
}
